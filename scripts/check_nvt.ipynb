{
 "cells": [
  {
   "cell_type": "code",
   "execution_count": 60,
   "metadata": {},
   "outputs": [],
   "source": [
    "import MDAnalysis as mda\n",
    "import MDAnalysis.transformations\n",
    "import nglview as nv\n",
    "import matplotlib.pyplot as plt\n",
    "import numpy as np"
   ]
  },
  {
   "cell_type": "code",
   "execution_count": 17,
   "metadata": {},
   "outputs": [],
   "source": [
    "nvt_path = \"../nvt/\"\n",
    "universe = mda.Universe(nvt_path+\"nvt.tpr\", nvt_path+\"nvt.xtc\")"
   ]
  },
  {
   "cell_type": "code",
   "execution_count": 18,
   "metadata": {},
   "outputs": [],
   "source": [
    "workflow = [mda.transformations.unwrap(universe.atoms)]\n",
    "universe.trajectory.add_transformations(*workflow)"
   ]
  },
  {
   "cell_type": "code",
   "execution_count": 52,
   "metadata": {},
   "outputs": [],
   "source": [
    "protein = universe.select_atoms(\"protein\")"
   ]
  },
  {
   "cell_type": "code",
   "execution_count": 53,
   "metadata": {},
   "outputs": [
    {
     "data": {
      "application/vnd.jupyter.widget-view+json": {
       "model_id": "b6ca53efcc9a413c9fd36e21c8ed04af",
       "version_major": 2,
       "version_minor": 0
      },
      "text/plain": [
       "NGLWidget(max_frame=250)"
      ]
     },
     "metadata": {},
     "output_type": "display_data"
    }
   ],
   "source": [
    "view = nv.show_mdanalysis(protein)\n",
    "view"
   ]
  },
  {
   "cell_type": "code",
   "execution_count": 46,
   "metadata": {},
   "outputs": [
    {
     "name": "stderr",
     "output_type": "stream",
     "text": [
      "/Users/jasminguven/miniforge3/lib/python3.9/site-packages/MDAnalysis/coordinates/XDR.py:237: UserWarning: Reload offsets from trajectory\n",
      " ctime or size or n_atoms did not match\n",
      "  warnings.warn(\"Reload offsets from trajectory\\n \"\n"
     ]
    }
   ],
   "source": [
    "pulling_path = \"../pulling/\"\n",
    "universe = mda.Universe(pulling_path+\"pulling.tpr\", pulling_path+\"pulling.xtc\")"
   ]
  },
  {
   "cell_type": "code",
   "execution_count": 47,
   "metadata": {},
   "outputs": [],
   "source": [
    "protein = universe.select_atoms(\"protein\")"
   ]
  },
  {
   "cell_type": "code",
   "execution_count": 48,
   "metadata": {},
   "outputs": [
    {
     "data": {
      "application/vnd.jupyter.widget-view+json": {
       "model_id": "e41a6237910c4e9db91d8b3f915131e3",
       "version_major": 2,
       "version_minor": 0
      },
      "text/plain": [
       "NGLWidget(max_frame=250)"
      ]
     },
     "metadata": {},
     "output_type": "display_data"
    }
   ],
   "source": [
    "view = nv.show_mdanalysis(protein)\n",
    "\n",
    "view"
   ]
  },
  {
   "cell_type": "code",
   "execution_count": 34,
   "metadata": {},
   "outputs": [
    {
     "ename": "ValueError",
     "evalue": "could not convert string to float: 'b'",
     "output_type": "error",
     "traceback": [
      "\u001b[0;31m---------------------------------------------------------------------------\u001b[0m",
      "\u001b[0;31mValueError\u001b[0m                                Traceback (most recent call last)",
      "\u001b[0;32m/var/folders/s3/bsl1r71j5vv92phr7p9f9skw0000gn/T/ipykernel_33292/2364887342.py\u001b[0m in \u001b[0;36m<module>\u001b[0;34m\u001b[0m\n\u001b[1;32m      1\u001b[0m \u001b[0mtest\u001b[0m \u001b[0;34m=\u001b[0m \u001b[0;34m\"b\"\u001b[0m\u001b[0;34m\u001b[0m\u001b[0;34m\u001b[0m\u001b[0m\n\u001b[0;32m----> 2\u001b[0;31m \u001b[0mfloat\u001b[0m\u001b[0;34m(\u001b[0m\u001b[0mtest\u001b[0m\u001b[0;34m)\u001b[0m\u001b[0;34m\u001b[0m\u001b[0;34m\u001b[0m\u001b[0m\n\u001b[0m",
      "\u001b[0;31mValueError\u001b[0m: could not convert string to float: 'b'"
     ]
    }
   ],
   "source": [
    "test = \"b\"\n",
    "float(test)"
   ]
  },
  {
   "cell_type": "code",
   "execution_count": 69,
   "metadata": {},
   "outputs": [
    {
     "name": "stdout",
     "output_type": "stream",
     "text": [
      "could not convert string to float: 't'\n",
      "could not convert string to float: 'x1'\n",
      "could not convert string to float: 'x2'\n"
     ]
    }
   ],
   "source": [
    "time = []\n",
    "x1 = []\n",
    "x2 = []\n",
    "with open(\"../pulling_nvt/pulling_intermediate.txt\", \"r\") as file:\n",
    "    lines = file.readlines()\n",
    "    for line in lines:\n",
    "        new_line = line.split()\n",
    "        # print(new_line)\n",
    "\n",
    "        for i in range(len(new_line)):\n",
    "            try:\n",
    "                number = float(new_line[i])\n",
    "                if i == 0:\n",
    "                    time.append(number)\n",
    "                elif i == 1: \n",
    "                    x1.append(number)\n",
    "                else:\n",
    "                    x2.append(number)\n",
    "\n",
    "            except ValueError as e:\n",
    "                print(e)\n",
    "        \n",
    "\n"
   ]
  },
  {
   "cell_type": "code",
   "execution_count": 70,
   "metadata": {},
   "outputs": [],
   "source": [
    "time = np.array(time)\n",
    "x1 = np.array(x1)\n",
    "x2 = np.array(x2)"
   ]
  },
  {
   "cell_type": "code",
   "execution_count": 73,
   "metadata": {},
   "outputs": [
    {
     "data": {
      "text/plain": [
       "(0.35, 0.6)"
      ]
     },
     "execution_count": 73,
     "metadata": {},
     "output_type": "execute_result"
    },
    {
     "data": {
      "image/png": "[encoded data removed]",
      "text/plain": [
       "<Figure size 432x288 with 1 Axes>"
      ]
     },
     "metadata": {
      "needs_background": "light"
     },
     "output_type": "display_data"
    }
   ],
   "source": [
    "#find line of best fit\n",
    "a1, b1 = np.polyfit(time, x1, 1)\n",
    "a2, b2 = np.polyfit(time, x2, 1)\n",
    "\n",
    "#add points to plot\n",
    "# plt.scatter(x, y)\n",
    "\n",
    "#add line of best fit to plot\n",
    "plt.plot(time, a1*time+b1, color=\"red\")        \n",
    "\n",
    "plt.scatter(time, x1, label = \"x1\", marker='.', alpha=0.5, c='k')\n",
    "# plt.plot(time, x2, label = \"x2\")\n",
    "plt.ylim(0.35,0.6)\n"
   ]
  },
  {
   "cell_type": "code",
   "execution_count": 77,
   "metadata": {},
   "outputs": [
    {
     "data": {
      "text/plain": [
       "(0.3, 0.6)"
      ]
     },
     "execution_count": 77,
     "metadata": {},
     "output_type": "execute_result"
    },
    {
     "data": {
      "image/png": "[encoded data removed]",
      "text/plain": [
       "<Figure size 432x288 with 1 Axes>"
      ]
     },
     "metadata": {
      "needs_background": "light"
     },
     "output_type": "display_data"
    }
   ],
   "source": [
    "plt.plot(time, a2*time+b2, color=\"red\")   \n",
    "plt.scatter(time, x2, label = \"x1\", marker='.', alpha=0.5, c='k') \n",
    "plt.ylim(0.3,0.6)"
   ]
  },
  {
   "cell_type": "code",
   "execution_count": null,
   "metadata": {},
   "outputs": [],
   "source": []
  }
 ],
 "metadata": {
  "kernelspec": {
   "display_name": "Python 3.9.7 ('base')",
   "language": "python",
   "name": "python3"
  },
  "language_info": {
   "codemirror_mode": {
    "name": "ipython",
    "version": 3
   },
   "file_extension": ".py",
   "mimetype": "text/x-python",
   "name": "python",
   "nbconvert_exporter": "python",
   "pygments_lexer": "ipython3",
   "version": "3.9.7"
  },
  "orig_nbformat": 4,
  "vscode": {
   "interpreter": {
    "hash": "7e2b0665d4e570b634baeb8741a17bfaeb1fa04813e362f086cbfcdc16e628d7"
   }
  }
 },
 "nbformat": 4,
 "nbformat_minor": 2
}
